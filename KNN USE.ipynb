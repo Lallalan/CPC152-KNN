{
 "cells": [
  {
   "cell_type": "code",
   "execution_count": 116,
   "id": "8ccb6846",
   "metadata": {},
   "outputs": [],
   "source": [
    "import numpy as np\n",
    "import pandas as pd\n",
    "import numpy.random as npr"
   ]
  },
  {
   "cell_type": "code",
   "execution_count": 117,
   "id": "cc636a48",
   "metadata": {},
   "outputs": [
    {
     "name": "stdout",
     "output_type": "stream",
     "text": [
      "C:\\Project CPC152\n"
     ]
    }
   ],
   "source": [
    "cd C:/Project CPC152"
   ]
  },
  {
   "cell_type": "code",
   "execution_count": 118,
   "id": "73149096",
   "metadata": {},
   "outputs": [
    {
     "data": {
      "text/html": [
       "<div>\n",
       "<style scoped>\n",
       "    .dataframe tbody tr th:only-of-type {\n",
       "        vertical-align: middle;\n",
       "    }\n",
       "\n",
       "    .dataframe tbody tr th {\n",
       "        vertical-align: top;\n",
       "    }\n",
       "\n",
       "    .dataframe thead th {\n",
       "        text-align: right;\n",
       "    }\n",
       "</style>\n",
       "<table border=\"1\" class=\"dataframe\">\n",
       "  <thead>\n",
       "    <tr style=\"text-align: right;\">\n",
       "      <th></th>\n",
       "      <th>Id</th>\n",
       "      <th>SepalLengthCm</th>\n",
       "      <th>SepalWidthCm</th>\n",
       "      <th>PetalLengthCm</th>\n",
       "      <th>PetalWidthCm</th>\n",
       "      <th>Species</th>\n",
       "    </tr>\n",
       "  </thead>\n",
       "  <tbody>\n",
       "    <tr>\n",
       "      <th>0</th>\n",
       "      <td>1</td>\n",
       "      <td>5.1</td>\n",
       "      <td>3.5</td>\n",
       "      <td>1.4</td>\n",
       "      <td>0.2</td>\n",
       "      <td>Iris-setosa</td>\n",
       "    </tr>\n",
       "    <tr>\n",
       "      <th>1</th>\n",
       "      <td>2</td>\n",
       "      <td>4.9</td>\n",
       "      <td>3.0</td>\n",
       "      <td>1.4</td>\n",
       "      <td>0.2</td>\n",
       "      <td>Iris-setosa</td>\n",
       "    </tr>\n",
       "    <tr>\n",
       "      <th>2</th>\n",
       "      <td>3</td>\n",
       "      <td>4.7</td>\n",
       "      <td>3.2</td>\n",
       "      <td>1.3</td>\n",
       "      <td>0.2</td>\n",
       "      <td>Iris-setosa</td>\n",
       "    </tr>\n",
       "    <tr>\n",
       "      <th>3</th>\n",
       "      <td>4</td>\n",
       "      <td>4.6</td>\n",
       "      <td>3.1</td>\n",
       "      <td>1.5</td>\n",
       "      <td>0.2</td>\n",
       "      <td>Iris-setosa</td>\n",
       "    </tr>\n",
       "    <tr>\n",
       "      <th>4</th>\n",
       "      <td>5</td>\n",
       "      <td>5.0</td>\n",
       "      <td>3.6</td>\n",
       "      <td>1.4</td>\n",
       "      <td>0.2</td>\n",
       "      <td>Iris-setosa</td>\n",
       "    </tr>\n",
       "    <tr>\n",
       "      <th>...</th>\n",
       "      <td>...</td>\n",
       "      <td>...</td>\n",
       "      <td>...</td>\n",
       "      <td>...</td>\n",
       "      <td>...</td>\n",
       "      <td>...</td>\n",
       "    </tr>\n",
       "    <tr>\n",
       "      <th>145</th>\n",
       "      <td>146</td>\n",
       "      <td>6.7</td>\n",
       "      <td>3.0</td>\n",
       "      <td>5.2</td>\n",
       "      <td>2.3</td>\n",
       "      <td>Iris-virginica</td>\n",
       "    </tr>\n",
       "    <tr>\n",
       "      <th>146</th>\n",
       "      <td>147</td>\n",
       "      <td>6.3</td>\n",
       "      <td>2.5</td>\n",
       "      <td>5.0</td>\n",
       "      <td>1.9</td>\n",
       "      <td>Iris-virginica</td>\n",
       "    </tr>\n",
       "    <tr>\n",
       "      <th>147</th>\n",
       "      <td>148</td>\n",
       "      <td>6.5</td>\n",
       "      <td>3.0</td>\n",
       "      <td>5.2</td>\n",
       "      <td>2.0</td>\n",
       "      <td>Iris-virginica</td>\n",
       "    </tr>\n",
       "    <tr>\n",
       "      <th>148</th>\n",
       "      <td>149</td>\n",
       "      <td>6.2</td>\n",
       "      <td>3.4</td>\n",
       "      <td>5.4</td>\n",
       "      <td>2.3</td>\n",
       "      <td>Iris-virginica</td>\n",
       "    </tr>\n",
       "    <tr>\n",
       "      <th>149</th>\n",
       "      <td>150</td>\n",
       "      <td>5.9</td>\n",
       "      <td>3.0</td>\n",
       "      <td>5.1</td>\n",
       "      <td>1.8</td>\n",
       "      <td>Iris-virginica</td>\n",
       "    </tr>\n",
       "  </tbody>\n",
       "</table>\n",
       "<p>150 rows × 6 columns</p>\n",
       "</div>"
      ],
      "text/plain": [
       "      Id  SepalLengthCm  SepalWidthCm  PetalLengthCm  PetalWidthCm  \\\n",
       "0      1            5.1           3.5            1.4           0.2   \n",
       "1      2            4.9           3.0            1.4           0.2   \n",
       "2      3            4.7           3.2            1.3           0.2   \n",
       "3      4            4.6           3.1            1.5           0.2   \n",
       "4      5            5.0           3.6            1.4           0.2   \n",
       "..   ...            ...           ...            ...           ...   \n",
       "145  146            6.7           3.0            5.2           2.3   \n",
       "146  147            6.3           2.5            5.0           1.9   \n",
       "147  148            6.5           3.0            5.2           2.0   \n",
       "148  149            6.2           3.4            5.4           2.3   \n",
       "149  150            5.9           3.0            5.1           1.8   \n",
       "\n",
       "            Species  \n",
       "0       Iris-setosa  \n",
       "1       Iris-setosa  \n",
       "2       Iris-setosa  \n",
       "3       Iris-setosa  \n",
       "4       Iris-setosa  \n",
       "..              ...  \n",
       "145  Iris-virginica  \n",
       "146  Iris-virginica  \n",
       "147  Iris-virginica  \n",
       "148  Iris-virginica  \n",
       "149  Iris-virginica  \n",
       "\n",
       "[150 rows x 6 columns]"
      ]
     },
     "execution_count": 118,
     "metadata": {},
     "output_type": "execute_result"
    }
   ],
   "source": [
    "iris = pd.read_csv(\"iris.csv\")\n",
    "iris"
   ]
  },
  {
   "cell_type": "markdown",
   "id": "49a434ca",
   "metadata": {},
   "source": [
    "## Understanding the data"
   ]
  },
  {
   "cell_type": "code",
   "execution_count": 119,
   "id": "5222f554",
   "metadata": {},
   "outputs": [
    {
     "data": {
      "text/html": [
       "<div>\n",
       "<style scoped>\n",
       "    .dataframe tbody tr th:only-of-type {\n",
       "        vertical-align: middle;\n",
       "    }\n",
       "\n",
       "    .dataframe tbody tr th {\n",
       "        vertical-align: top;\n",
       "    }\n",
       "\n",
       "    .dataframe thead th {\n",
       "        text-align: right;\n",
       "    }\n",
       "</style>\n",
       "<table border=\"1\" class=\"dataframe\">\n",
       "  <thead>\n",
       "    <tr style=\"text-align: right;\">\n",
       "      <th></th>\n",
       "      <th>Id</th>\n",
       "      <th>SepalLengthCm</th>\n",
       "      <th>SepalWidthCm</th>\n",
       "      <th>PetalLengthCm</th>\n",
       "      <th>PetalWidthCm</th>\n",
       "      <th>Species</th>\n",
       "    </tr>\n",
       "  </thead>\n",
       "  <tbody>\n",
       "    <tr>\n",
       "      <th>0</th>\n",
       "      <td>1</td>\n",
       "      <td>5.1</td>\n",
       "      <td>3.5</td>\n",
       "      <td>1.4</td>\n",
       "      <td>0.2</td>\n",
       "      <td>Iris-setosa</td>\n",
       "    </tr>\n",
       "    <tr>\n",
       "      <th>1</th>\n",
       "      <td>2</td>\n",
       "      <td>4.9</td>\n",
       "      <td>3.0</td>\n",
       "      <td>1.4</td>\n",
       "      <td>0.2</td>\n",
       "      <td>Iris-setosa</td>\n",
       "    </tr>\n",
       "    <tr>\n",
       "      <th>2</th>\n",
       "      <td>3</td>\n",
       "      <td>4.7</td>\n",
       "      <td>3.2</td>\n",
       "      <td>1.3</td>\n",
       "      <td>0.2</td>\n",
       "      <td>Iris-setosa</td>\n",
       "    </tr>\n",
       "    <tr>\n",
       "      <th>3</th>\n",
       "      <td>4</td>\n",
       "      <td>4.6</td>\n",
       "      <td>3.1</td>\n",
       "      <td>1.5</td>\n",
       "      <td>0.2</td>\n",
       "      <td>Iris-setosa</td>\n",
       "    </tr>\n",
       "    <tr>\n",
       "      <th>4</th>\n",
       "      <td>5</td>\n",
       "      <td>5.0</td>\n",
       "      <td>3.6</td>\n",
       "      <td>1.4</td>\n",
       "      <td>0.2</td>\n",
       "      <td>Iris-setosa</td>\n",
       "    </tr>\n",
       "  </tbody>\n",
       "</table>\n",
       "</div>"
      ],
      "text/plain": [
       "   Id  SepalLengthCm  SepalWidthCm  PetalLengthCm  PetalWidthCm      Species\n",
       "0   1            5.1           3.5            1.4           0.2  Iris-setosa\n",
       "1   2            4.9           3.0            1.4           0.2  Iris-setosa\n",
       "2   3            4.7           3.2            1.3           0.2  Iris-setosa\n",
       "3   4            4.6           3.1            1.5           0.2  Iris-setosa\n",
       "4   5            5.0           3.6            1.4           0.2  Iris-setosa"
      ]
     },
     "execution_count": 119,
     "metadata": {},
     "output_type": "execute_result"
    }
   ],
   "source": [
    "iris.head()"
   ]
  },
  {
   "cell_type": "code",
   "execution_count": 120,
   "id": "ca385281",
   "metadata": {},
   "outputs": [
    {
     "data": {
      "text/html": [
       "<div>\n",
       "<style scoped>\n",
       "    .dataframe tbody tr th:only-of-type {\n",
       "        vertical-align: middle;\n",
       "    }\n",
       "\n",
       "    .dataframe tbody tr th {\n",
       "        vertical-align: top;\n",
       "    }\n",
       "\n",
       "    .dataframe thead th {\n",
       "        text-align: right;\n",
       "    }\n",
       "</style>\n",
       "<table border=\"1\" class=\"dataframe\">\n",
       "  <thead>\n",
       "    <tr style=\"text-align: right;\">\n",
       "      <th></th>\n",
       "      <th>Id</th>\n",
       "      <th>SepalLengthCm</th>\n",
       "      <th>SepalWidthCm</th>\n",
       "      <th>PetalLengthCm</th>\n",
       "      <th>PetalWidthCm</th>\n",
       "      <th>Species</th>\n",
       "    </tr>\n",
       "  </thead>\n",
       "  <tbody>\n",
       "    <tr>\n",
       "      <th>145</th>\n",
       "      <td>146</td>\n",
       "      <td>6.7</td>\n",
       "      <td>3.0</td>\n",
       "      <td>5.2</td>\n",
       "      <td>2.3</td>\n",
       "      <td>Iris-virginica</td>\n",
       "    </tr>\n",
       "    <tr>\n",
       "      <th>146</th>\n",
       "      <td>147</td>\n",
       "      <td>6.3</td>\n",
       "      <td>2.5</td>\n",
       "      <td>5.0</td>\n",
       "      <td>1.9</td>\n",
       "      <td>Iris-virginica</td>\n",
       "    </tr>\n",
       "    <tr>\n",
       "      <th>147</th>\n",
       "      <td>148</td>\n",
       "      <td>6.5</td>\n",
       "      <td>3.0</td>\n",
       "      <td>5.2</td>\n",
       "      <td>2.0</td>\n",
       "      <td>Iris-virginica</td>\n",
       "    </tr>\n",
       "    <tr>\n",
       "      <th>148</th>\n",
       "      <td>149</td>\n",
       "      <td>6.2</td>\n",
       "      <td>3.4</td>\n",
       "      <td>5.4</td>\n",
       "      <td>2.3</td>\n",
       "      <td>Iris-virginica</td>\n",
       "    </tr>\n",
       "    <tr>\n",
       "      <th>149</th>\n",
       "      <td>150</td>\n",
       "      <td>5.9</td>\n",
       "      <td>3.0</td>\n",
       "      <td>5.1</td>\n",
       "      <td>1.8</td>\n",
       "      <td>Iris-virginica</td>\n",
       "    </tr>\n",
       "  </tbody>\n",
       "</table>\n",
       "</div>"
      ],
      "text/plain": [
       "      Id  SepalLengthCm  SepalWidthCm  PetalLengthCm  PetalWidthCm  \\\n",
       "145  146            6.7           3.0            5.2           2.3   \n",
       "146  147            6.3           2.5            5.0           1.9   \n",
       "147  148            6.5           3.0            5.2           2.0   \n",
       "148  149            6.2           3.4            5.4           2.3   \n",
       "149  150            5.9           3.0            5.1           1.8   \n",
       "\n",
       "            Species  \n",
       "145  Iris-virginica  \n",
       "146  Iris-virginica  \n",
       "147  Iris-virginica  \n",
       "148  Iris-virginica  \n",
       "149  Iris-virginica  "
      ]
     },
     "execution_count": 120,
     "metadata": {},
     "output_type": "execute_result"
    }
   ],
   "source": [
    "iris.tail()"
   ]
  },
  {
   "cell_type": "code",
   "execution_count": 121,
   "id": "9192f1ea",
   "metadata": {},
   "outputs": [
    {
     "data": {
      "text/plain": [
       "(150, 6)"
      ]
     },
     "execution_count": 121,
     "metadata": {},
     "output_type": "execute_result"
    }
   ],
   "source": [
    "iris.shape"
   ]
  },
  {
   "cell_type": "code",
   "execution_count": 122,
   "id": "2e9c948c",
   "metadata": {},
   "outputs": [
    {
     "data": {
      "text/html": [
       "<div>\n",
       "<style scoped>\n",
       "    .dataframe tbody tr th:only-of-type {\n",
       "        vertical-align: middle;\n",
       "    }\n",
       "\n",
       "    .dataframe tbody tr th {\n",
       "        vertical-align: top;\n",
       "    }\n",
       "\n",
       "    .dataframe thead th {\n",
       "        text-align: right;\n",
       "    }\n",
       "</style>\n",
       "<table border=\"1\" class=\"dataframe\">\n",
       "  <thead>\n",
       "    <tr style=\"text-align: right;\">\n",
       "      <th></th>\n",
       "      <th>Id</th>\n",
       "      <th>SepalLengthCm</th>\n",
       "      <th>SepalWidthCm</th>\n",
       "      <th>PetalLengthCm</th>\n",
       "      <th>PetalWidthCm</th>\n",
       "    </tr>\n",
       "  </thead>\n",
       "  <tbody>\n",
       "    <tr>\n",
       "      <th>count</th>\n",
       "      <td>150.000000</td>\n",
       "      <td>150.000000</td>\n",
       "      <td>150.000000</td>\n",
       "      <td>150.000000</td>\n",
       "      <td>150.000000</td>\n",
       "    </tr>\n",
       "    <tr>\n",
       "      <th>mean</th>\n",
       "      <td>75.500000</td>\n",
       "      <td>5.843333</td>\n",
       "      <td>3.054000</td>\n",
       "      <td>3.758667</td>\n",
       "      <td>1.198667</td>\n",
       "    </tr>\n",
       "    <tr>\n",
       "      <th>std</th>\n",
       "      <td>43.445368</td>\n",
       "      <td>0.828066</td>\n",
       "      <td>0.433594</td>\n",
       "      <td>1.764420</td>\n",
       "      <td>0.763161</td>\n",
       "    </tr>\n",
       "    <tr>\n",
       "      <th>min</th>\n",
       "      <td>1.000000</td>\n",
       "      <td>4.300000</td>\n",
       "      <td>2.000000</td>\n",
       "      <td>1.000000</td>\n",
       "      <td>0.100000</td>\n",
       "    </tr>\n",
       "    <tr>\n",
       "      <th>25%</th>\n",
       "      <td>38.250000</td>\n",
       "      <td>5.100000</td>\n",
       "      <td>2.800000</td>\n",
       "      <td>1.600000</td>\n",
       "      <td>0.300000</td>\n",
       "    </tr>\n",
       "    <tr>\n",
       "      <th>50%</th>\n",
       "      <td>75.500000</td>\n",
       "      <td>5.800000</td>\n",
       "      <td>3.000000</td>\n",
       "      <td>4.350000</td>\n",
       "      <td>1.300000</td>\n",
       "    </tr>\n",
       "    <tr>\n",
       "      <th>75%</th>\n",
       "      <td>112.750000</td>\n",
       "      <td>6.400000</td>\n",
       "      <td>3.300000</td>\n",
       "      <td>5.100000</td>\n",
       "      <td>1.800000</td>\n",
       "    </tr>\n",
       "    <tr>\n",
       "      <th>max</th>\n",
       "      <td>150.000000</td>\n",
       "      <td>7.900000</td>\n",
       "      <td>4.400000</td>\n",
       "      <td>6.900000</td>\n",
       "      <td>2.500000</td>\n",
       "    </tr>\n",
       "  </tbody>\n",
       "</table>\n",
       "</div>"
      ],
      "text/plain": [
       "               Id  SepalLengthCm  SepalWidthCm  PetalLengthCm  PetalWidthCm\n",
       "count  150.000000     150.000000    150.000000     150.000000    150.000000\n",
       "mean    75.500000       5.843333      3.054000       3.758667      1.198667\n",
       "std     43.445368       0.828066      0.433594       1.764420      0.763161\n",
       "min      1.000000       4.300000      2.000000       1.000000      0.100000\n",
       "25%     38.250000       5.100000      2.800000       1.600000      0.300000\n",
       "50%     75.500000       5.800000      3.000000       4.350000      1.300000\n",
       "75%    112.750000       6.400000      3.300000       5.100000      1.800000\n",
       "max    150.000000       7.900000      4.400000       6.900000      2.500000"
      ]
     },
     "execution_count": 122,
     "metadata": {},
     "output_type": "execute_result"
    }
   ],
   "source": [
    "iris.describe()"
   ]
  },
  {
   "cell_type": "markdown",
   "id": "18ec4fbb",
   "metadata": {},
   "source": [
    "## Cleaning Data"
   ]
  },
  {
   "cell_type": "code",
   "execution_count": 123,
   "id": "2ca8496c",
   "metadata": {},
   "outputs": [
    {
     "data": {
      "text/plain": [
       "Id               0\n",
       "SepalLengthCm    0\n",
       "SepalWidthCm     0\n",
       "PetalLengthCm    0\n",
       "PetalWidthCm     0\n",
       "Species          0\n",
       "dtype: int64"
      ]
     },
     "execution_count": 123,
     "metadata": {},
     "output_type": "execute_result"
    }
   ],
   "source": [
    "iris.apply(lambda x: sum(x.isnull()), axis = 0)"
   ]
  },
  {
   "cell_type": "markdown",
   "id": "e4ff5397",
   "metadata": {},
   "source": [
    "## Spliting the Dataset"
   ]
  },
  {
   "cell_type": "code",
   "execution_count": 124,
   "id": "f255ae2a",
   "metadata": {},
   "outputs": [],
   "source": [
    "x = iris.iloc[:, 1:6]\n",
    "y = iris.iloc[:, 5]"
   ]
  },
  {
   "cell_type": "code",
   "execution_count": 125,
   "id": "3dd5a03f",
   "metadata": {},
   "outputs": [
    {
     "name": "stdout",
     "output_type": "stream",
     "text": [
      "(150, 5)\n"
     ]
    }
   ],
   "source": [
    "print(x.shape)\n"
   ]
  },
  {
   "cell_type": "code",
   "execution_count": 126,
   "id": "5ae4d1d7",
   "metadata": {},
   "outputs": [
    {
     "name": "stdout",
     "output_type": "stream",
     "text": [
      "(150,)\n"
     ]
    }
   ],
   "source": [
    "print(y.shape)\n"
   ]
  },
  {
   "cell_type": "code",
   "execution_count": 127,
   "id": "8f71f023",
   "metadata": {},
   "outputs": [],
   "source": [
    "from sklearn.model_selection import train_test_split\n",
    "X_train,X_test,y_train,y_test = train_test_split(x,y,test_size=0.3,random_state=4)\n",
    "X_train1,X_test1,y_train1,y_test1 = train_test_split(x,y,test_size=0.2,random_state=4)"
   ]
  },
  {
   "cell_type": "code",
   "execution_count": 128,
   "id": "ae4aa1f7",
   "metadata": {},
   "outputs": [
    {
     "name": "stdout",
     "output_type": "stream",
     "text": [
      "(105, 5)\n",
      "(45, 5)\n"
     ]
    }
   ],
   "source": [
    "print(X_train.shape)\n",
    "print(X_test.shape)"
   ]
  },
  {
   "cell_type": "code",
   "execution_count": 129,
   "id": "5f971ef5",
   "metadata": {},
   "outputs": [
    {
     "name": "stdout",
     "output_type": "stream",
     "text": [
      "(105,)\n",
      "(45,)\n"
     ]
    }
   ],
   "source": [
    "print(y_train.shape)\n",
    "print(y_test.shape)"
   ]
  },
  {
   "cell_type": "code",
   "execution_count": 130,
   "id": "e098f717",
   "metadata": {},
   "outputs": [
    {
     "name": "stdout",
     "output_type": "stream",
     "text": [
      "(120, 5)\n",
      "(30, 5)\n"
     ]
    }
   ],
   "source": [
    "print(X_train1.shape)\n",
    "print(X_test1.shape)"
   ]
  },
  {
   "cell_type": "code",
   "execution_count": 131,
   "id": "d8f1a9b0",
   "metadata": {},
   "outputs": [
    {
     "name": "stdout",
     "output_type": "stream",
     "text": [
      "(120,)\n",
      "(30,)\n"
     ]
    }
   ],
   "source": [
    "print(y_train1.shape)\n",
    "print(y_test1.shape)"
   ]
  },
  {
   "cell_type": "markdown",
   "id": "8a87dca4",
   "metadata": {},
   "source": [
    "## Change the data type from string to numeric using Encoder"
   ]
  },
  {
   "cell_type": "code",
   "execution_count": 132,
   "id": "bcbc4d34",
   "metadata": {},
   "outputs": [],
   "source": [
    "pd.options.mode.chained_assignment = None"
   ]
  },
  {
   "cell_type": "code",
   "execution_count": 133,
   "id": "2e7b7513",
   "metadata": {},
   "outputs": [
    {
     "data": {
      "text/plain": [
       "SepalLengthCm    float64\n",
       "SepalWidthCm     float64\n",
       "PetalLengthCm    float64\n",
       "PetalWidthCm     float64\n",
       "Species            int32\n",
       "dtype: object"
      ]
     },
     "execution_count": 133,
     "metadata": {},
     "output_type": "execute_result"
    }
   ],
   "source": [
    "from sklearn.preprocessing import LabelEncoder\n",
    "var_mod = ['Species']\n",
    "le = LabelEncoder()\n",
    "for i in var_mod:\n",
    "    X_train[i] = le.fit_transform(X_train[i])\n",
    "X_train.dtypes"
   ]
  },
  {
   "cell_type": "code",
   "execution_count": 134,
   "id": "8ffc341c",
   "metadata": {},
   "outputs": [
    {
     "data": {
      "text/plain": [
       "SepalLengthCm    float64\n",
       "SepalWidthCm     float64\n",
       "PetalLengthCm    float64\n",
       "PetalWidthCm     float64\n",
       "Species            int32\n",
       "dtype: object"
      ]
     },
     "execution_count": 134,
     "metadata": {},
     "output_type": "execute_result"
    }
   ],
   "source": [
    "from sklearn.preprocessing import LabelEncoder\n",
    "var_mod = ['Species']\n",
    "le = LabelEncoder()\n",
    "for i in var_mod:\n",
    "    X_test[i] = le.fit_transform(X_test[i])\n",
    "X_test.dtypes"
   ]
  },
  {
   "cell_type": "code",
   "execution_count": 135,
   "id": "996302d1",
   "metadata": {},
   "outputs": [
    {
     "data": {
      "text/plain": [
       "SepalLengthCm    float64\n",
       "SepalWidthCm     float64\n",
       "PetalLengthCm    float64\n",
       "PetalWidthCm     float64\n",
       "Species            int32\n",
       "dtype: object"
      ]
     },
     "execution_count": 135,
     "metadata": {},
     "output_type": "execute_result"
    }
   ],
   "source": [
    "from sklearn.preprocessing import LabelEncoder\n",
    "var_mod = ['Species']\n",
    "le = LabelEncoder()\n",
    "for i in var_mod:\n",
    "    X_train1[i] = le.fit_transform(X_train1[i])\n",
    "X_train1.dtypes"
   ]
  },
  {
   "cell_type": "code",
   "execution_count": 136,
   "id": "b47bed12",
   "metadata": {},
   "outputs": [
    {
     "data": {
      "text/plain": [
       "SepalLengthCm    float64\n",
       "SepalWidthCm     float64\n",
       "PetalLengthCm    float64\n",
       "PetalWidthCm     float64\n",
       "Species            int32\n",
       "dtype: object"
      ]
     },
     "execution_count": 136,
     "metadata": {},
     "output_type": "execute_result"
    }
   ],
   "source": [
    "from sklearn.preprocessing import LabelEncoder\n",
    "var_mod = ['Species']\n",
    "le = LabelEncoder()\n",
    "for i in var_mod:\n",
    "    X_test1[i] = le.fit_transform(X_test1[i])\n",
    "X_test1.dtypes"
   ]
  },
  {
   "cell_type": "markdown",
   "id": "99ecd36b",
   "metadata": {},
   "source": [
    "## Feature Scaling"
   ]
  },
  {
   "cell_type": "code",
   "execution_count": 137,
   "id": "d4618291",
   "metadata": {},
   "outputs": [],
   "source": [
    "#from sklearn.preprocessing import StandardScaler\n",
    "#sc_X = StandardScaler()\n",
    "#X_test = sc_X.fit_transform(X_test)\n",
    "#X_train = sc_X.fit_transform(X_train)\n",
    "#X_test1 = sc_X.fit_transform(X_test1)\n",
    "#X_train1 = sc_X.fit_transform(X_train1)"
   ]
  },
  {
   "cell_type": "markdown",
   "id": "f7c1208d",
   "metadata": {},
   "source": [
    "## Predictions"
   ]
  },
  {
   "cell_type": "code",
   "execution_count": 138,
   "id": "4429ece6",
   "metadata": {},
   "outputs": [],
   "source": [
    "from sklearn.neighbors import KNeighborsClassifier\n",
    "from sklearn import metrics\n",
    "k_range = range(1,26,2)\n",
    "scores = {}\n",
    "scores_list = []\n",
    "\n",
    "for k in k_range:\n",
    "    knn = KNeighborsClassifier(n_neighbors = k)\n",
    "    knn.fit(X_train,y_train)\n",
    "    y_pred = knn.predict(X_test)\n",
    "    scores[k] = metrics.accuracy_score(y_test, y_pred)\n",
    "    scores_list.append(metrics.accuracy_score(y_test, y_pred))"
   ]
  },
  {
   "cell_type": "code",
   "execution_count": 139,
   "id": "0a4096b8",
   "metadata": {},
   "outputs": [
    {
     "data": {
      "text/plain": [
       "{1: 1.0,\n",
       " 3: 1.0,\n",
       " 5: 1.0,\n",
       " 7: 1.0,\n",
       " 9: 1.0,\n",
       " 11: 1.0,\n",
       " 13: 1.0,\n",
       " 15: 1.0,\n",
       " 17: 1.0,\n",
       " 19: 1.0,\n",
       " 21: 1.0,\n",
       " 23: 1.0,\n",
       " 25: 1.0}"
      ]
     },
     "execution_count": 139,
     "metadata": {},
     "output_type": "execute_result"
    }
   ],
   "source": [
    "scores"
   ]
  },
  {
   "cell_type": "code",
   "execution_count": 140,
   "id": "e860950d",
   "metadata": {},
   "outputs": [],
   "source": [
    "from sklearn.neighbors import KNeighborsClassifier\n",
    "from sklearn import metrics\n",
    "\n",
    "k_range = range(1,26,2)\n",
    "scores1 = {}\n",
    "scores_list1 = []\n",
    "\n",
    "for k in k_range:\n",
    "    knn1 = KNeighborsClassifier(n_neighbors = k)\n",
    "    knn1.fit(X_train1,y_train1)\n",
    "    y_pred1 = knn1.predict(X_test1)\n",
    "    scores1[k] = metrics.accuracy_score(y_test1, y_pred1)\n",
    "    scores_list1.append(metrics.accuracy_score(y_test1, y_pred1))"
   ]
  },
  {
   "cell_type": "code",
   "execution_count": 141,
   "id": "1699fe05",
   "metadata": {},
   "outputs": [
    {
     "data": {
      "text/plain": [
       "{1: 1.0,\n",
       " 3: 1.0,\n",
       " 5: 1.0,\n",
       " 7: 1.0,\n",
       " 9: 1.0,\n",
       " 11: 1.0,\n",
       " 13: 1.0,\n",
       " 15: 1.0,\n",
       " 17: 1.0,\n",
       " 19: 1.0,\n",
       " 21: 1.0,\n",
       " 23: 1.0,\n",
       " 25: 1.0}"
      ]
     },
     "execution_count": 141,
     "metadata": {},
     "output_type": "execute_result"
    }
   ],
   "source": [
    "scores1"
   ]
  },
  {
   "cell_type": "code",
   "execution_count": 142,
   "id": "31d15cd7",
   "metadata": {},
   "outputs": [
    {
     "data": {
      "text/plain": [
       "Text(0, 0.5, 'Testing Accuracy')"
      ]
     },
     "execution_count": 142,
     "metadata": {},
     "output_type": "execute_result"
    },
    {
     "data": {
      "image/png": "[encoded data removed]",
      "text/plain": [
       "<Figure size 432x288 with 1 Axes>"
      ]
     },
     "metadata": {
      "needs_background": "light"
     },
     "output_type": "display_data"
    }
   ],
   "source": [
    "%matplotlib inline\n",
    "import matplotlib.pyplot as plt\n",
    "plt.plot(k_range, scores_list, scores_list1)\n",
    "plt.xlabel('Value of K for KNN')\n",
    "plt.ylabel('Testing Accuracy')"
   ]
  },
  {
   "cell_type": "markdown",
   "id": "fd51d3fa",
   "metadata": {},
   "source": [
    "## Experiment 1\n"
   ]
  },
  {
   "cell_type": "code",
   "execution_count": 143,
   "id": "b1bf8ccc",
   "metadata": {},
   "outputs": [],
   "source": [
    "model = KNeighborsClassifier(n_neighbors=13) "
   ]
  },
  {
   "cell_type": "markdown",
   "id": "88da74ee",
   "metadata": {},
   "source": [
    "### For 70% train_set and 30% test_set"
   ]
  },
  {
   "cell_type": "markdown",
   "id": "f2dedad1",
   "metadata": {},
   "source": [
    "### Using SepalLengthCm and SepalWidthCm to predict the species of iris"
   ]
  },
  {
   "cell_type": "code",
   "execution_count": 144,
   "id": "d3a1258a",
   "metadata": {},
   "outputs": [
    {
     "data": {
      "text/plain": [
       "KNeighborsClassifier(n_neighbors=13)"
      ]
     },
     "execution_count": 144,
     "metadata": {},
     "output_type": "execute_result"
    }
   ],
   "source": [
    "model.fit(X_train[['SepalLengthCm','SepalWidthCm']], y_train)"
   ]
  },
  {
   "cell_type": "code",
   "execution_count": 145,
   "id": "781f2c9d",
   "metadata": {},
   "outputs": [
    {
     "data": {
      "text/plain": [
       "array(['Iris-virginica', 'Iris-setosa', 'Iris-virginica',\n",
       "       'Iris-virginica', 'Iris-virginica', 'Iris-versicolor',\n",
       "       'Iris-versicolor', 'Iris-setosa', 'Iris-setosa', 'Iris-virginica',\n",
       "       'Iris-setosa', 'Iris-setosa', 'Iris-setosa', 'Iris-virginica',\n",
       "       'Iris-versicolor', 'Iris-setosa', 'Iris-versicolor', 'Iris-setosa',\n",
       "       'Iris-setosa', 'Iris-versicolor', 'Iris-setosa', 'Iris-virginica',\n",
       "       'Iris-versicolor', 'Iris-setosa', 'Iris-setosa', 'Iris-setosa',\n",
       "       'Iris-setosa', 'Iris-setosa', 'Iris-setosa', 'Iris-versicolor',\n",
       "       'Iris-versicolor', 'Iris-setosa', 'Iris-versicolor', 'Iris-setosa',\n",
       "       'Iris-versicolor', 'Iris-virginica', 'Iris-virginica',\n",
       "       'Iris-versicolor', 'Iris-virginica', 'Iris-setosa',\n",
       "       'Iris-virginica', 'Iris-setosa', 'Iris-virginica', 'Iris-setosa',\n",
       "       'Iris-virginica'], dtype=object)"
      ]
     },
     "execution_count": 145,
     "metadata": {},
     "output_type": "execute_result"
    }
   ],
   "source": [
    "predictions = model.predict(X_test[['SepalLengthCm','SepalWidthCm']])\n",
    "predictions"
   ]
  },
  {
   "cell_type": "code",
   "execution_count": 146,
   "id": "87719e63",
   "metadata": {},
   "outputs": [
    {
     "name": "stdout",
     "output_type": "stream",
     "text": [
      "Accuracy  :  0.8444444444444444\n",
      "F1 score  :  0.8452674897119342\n",
      "Recall    :  0.8444444444444444\n",
      "Precision :  0.8473970473970474\n",
      "Confusion matrix: \n",
      "[[21  0  0]\n",
      " [ 0  7  3]\n",
      " [ 0  4 10]]\n"
     ]
    }
   ],
   "source": [
    "from sklearn.metrics import precision_score, f1_score, recall_score, confusion_matrix, classification_report, accuracy_score\n",
    "\n",
    "print('Accuracy  : ', accuracy_score(y_test, predictions))\n",
    "print('F1 score  : ', f1_score(y_test, predictions, average=\"weighted\"))\n",
    "print('Recall    : ', recall_score(y_test, predictions, average=\"weighted\"))\n",
    "print('Precision : ', precision_score(y_test, predictions, average=\"weighted\"))\n",
    "confusion = confusion_matrix(y_test, predictions)\n",
    "print('Confusion matrix: ')\n",
    "print(confusion)"
   ]
  },
  {
   "cell_type": "markdown",
   "id": "48b26f51",
   "metadata": {},
   "source": [
    "### Using PetalLengthCm and PetalWidthCm to predict the species of iris"
   ]
  },
  {
   "cell_type": "code",
   "execution_count": 147,
   "id": "761ef3fb",
   "metadata": {},
   "outputs": [
    {
     "data": {
      "text/plain": [
       "KNeighborsClassifier(n_neighbors=13)"
      ]
     },
     "execution_count": 147,
     "metadata": {},
     "output_type": "execute_result"
    }
   ],
   "source": [
    "model.fit(X_train[['PetalLengthCm','PetalWidthCm']], y_train)"
   ]
  },
  {
   "cell_type": "code",
   "execution_count": 148,
   "id": "c233eb96",
   "metadata": {},
   "outputs": [
    {
     "data": {
      "text/plain": [
       "array(['Iris-virginica', 'Iris-setosa', 'Iris-virginica',\n",
       "       'Iris-virginica', 'Iris-virginica', 'Iris-versicolor',\n",
       "       'Iris-virginica', 'Iris-setosa', 'Iris-setosa', 'Iris-versicolor',\n",
       "       'Iris-setosa', 'Iris-setosa', 'Iris-setosa', 'Iris-versicolor',\n",
       "       'Iris-virginica', 'Iris-setosa', 'Iris-versicolor', 'Iris-setosa',\n",
       "       'Iris-setosa', 'Iris-virginica', 'Iris-setosa', 'Iris-virginica',\n",
       "       'Iris-versicolor', 'Iris-setosa', 'Iris-setosa', 'Iris-setosa',\n",
       "       'Iris-setosa', 'Iris-setosa', 'Iris-setosa', 'Iris-virginica',\n",
       "       'Iris-versicolor', 'Iris-setosa', 'Iris-virginica', 'Iris-setosa',\n",
       "       'Iris-versicolor', 'Iris-virginica', 'Iris-virginica',\n",
       "       'Iris-versicolor', 'Iris-versicolor', 'Iris-setosa',\n",
       "       'Iris-virginica', 'Iris-setosa', 'Iris-versicolor', 'Iris-setosa',\n",
       "       'Iris-virginica'], dtype=object)"
      ]
     },
     "execution_count": 148,
     "metadata": {},
     "output_type": "execute_result"
    }
   ],
   "source": [
    "predictions = model.predict(X_test[['PetalLengthCm','PetalWidthCm']])\n",
    "predictions"
   ]
  },
  {
   "cell_type": "code",
   "execution_count": 149,
   "id": "4f1a63fd",
   "metadata": {},
   "outputs": [
    {
     "name": "stdout",
     "output_type": "stream",
     "text": [
      "Accuracy  :  0.9555555555555556\n",
      "F1 score  :  0.9555555555555556\n",
      "Recall    :  0.9555555555555556\n",
      "Precision :  0.9555555555555556\n",
      "Confusion matrix: \n",
      "[[21  0  0]\n",
      " [ 0  9  1]\n",
      " [ 0  1 13]]\n"
     ]
    }
   ],
   "source": [
    "from sklearn.metrics import precision_score, f1_score, recall_score, confusion_matrix, classification_report, accuracy_score\n",
    "\n",
    "print('Accuracy  : ', accuracy_score(y_test, predictions))\n",
    "print('F1 score  : ', f1_score(y_test, predictions, average=\"weighted\"))\n",
    "print('Recall    : ', recall_score(y_test, predictions, average=\"weighted\"))\n",
    "print('Precision : ', precision_score(y_test, predictions, average=\"weighted\"))\n",
    "confusion = confusion_matrix(y_test, predictions)\n",
    "print('Confusion matrix: ')\n",
    "print(confusion)"
   ]
  },
  {
   "cell_type": "markdown",
   "id": "8d570ed6",
   "metadata": {},
   "source": [
    "\n",
    "### Using SepalLengthCm, SepalWidthCm, PetalLengthCm and PetalWidthCm to predict the species of iris"
   ]
  },
  {
   "cell_type": "code",
   "execution_count": 150,
   "id": "dc14ebb5",
   "metadata": {},
   "outputs": [
    {
     "data": {
      "text/plain": [
       "KNeighborsClassifier(n_neighbors=13)"
      ]
     },
     "execution_count": 150,
     "metadata": {},
     "output_type": "execute_result"
    }
   ],
   "source": [
    "model.fit(X_train[['SepalLengthCm','SepalWidthCm','PetalLengthCm','PetalWidthCm']], y_train)"
   ]
  },
  {
   "cell_type": "code",
   "execution_count": 151,
   "id": "451c0efb",
   "metadata": {},
   "outputs": [
    {
     "data": {
      "text/plain": [
       "array(['Iris-virginica', 'Iris-setosa', 'Iris-virginica',\n",
       "       'Iris-virginica', 'Iris-virginica', 'Iris-versicolor',\n",
       "       'Iris-virginica', 'Iris-setosa', 'Iris-setosa', 'Iris-virginica',\n",
       "       'Iris-setosa', 'Iris-setosa', 'Iris-setosa', 'Iris-versicolor',\n",
       "       'Iris-virginica', 'Iris-setosa', 'Iris-versicolor', 'Iris-setosa',\n",
       "       'Iris-setosa', 'Iris-virginica', 'Iris-setosa', 'Iris-virginica',\n",
       "       'Iris-versicolor', 'Iris-setosa', 'Iris-setosa', 'Iris-setosa',\n",
       "       'Iris-setosa', 'Iris-setosa', 'Iris-setosa', 'Iris-virginica',\n",
       "       'Iris-versicolor', 'Iris-setosa', 'Iris-virginica', 'Iris-setosa',\n",
       "       'Iris-versicolor', 'Iris-virginica', 'Iris-virginica',\n",
       "       'Iris-versicolor', 'Iris-versicolor', 'Iris-setosa',\n",
       "       'Iris-virginica', 'Iris-setosa', 'Iris-versicolor', 'Iris-setosa',\n",
       "       'Iris-virginica'], dtype=object)"
      ]
     },
     "execution_count": 151,
     "metadata": {},
     "output_type": "execute_result"
    }
   ],
   "source": [
    "predictions = model.predict(X_test[['SepalLengthCm','SepalWidthCm','PetalLengthCm','PetalWidthCm']])\n",
    "predictions"
   ]
  },
  {
   "cell_type": "code",
   "execution_count": 152,
   "id": "07004cd7",
   "metadata": {},
   "outputs": [
    {
     "name": "stdout",
     "output_type": "stream",
     "text": [
      "Accuracy  :  0.9777777777777777\n",
      "F1 score  :  0.9775761242185925\n",
      "Recall    :  0.9777777777777777\n",
      "Precision :  0.9792592592592592\n",
      "Confusion matrix: \n",
      "[[21  0  0]\n",
      " [ 0  9  1]\n",
      " [ 0  0 14]]\n"
     ]
    }
   ],
   "source": [
    "from sklearn.metrics import precision_score, f1_score, recall_score, confusion_matrix, classification_report, accuracy_score\n",
    "\n",
    "print('Accuracy  : ', accuracy_score(y_test, predictions))\n",
    "print('F1 score  : ', f1_score(y_test, predictions, average=\"weighted\"))\n",
    "print('Recall    : ', recall_score(y_test, predictions, average=\"weighted\"))\n",
    "print('Precision : ', precision_score(y_test, predictions, average=\"weighted\"))\n",
    "confusion = confusion_matrix(y_test, predictions)\n",
    "print('Confusion matrix: ')\n",
    "print(confusion)"
   ]
  },
  {
   "cell_type": "markdown",
   "id": "cac2963a",
   "metadata": {},
   "source": [
    "### For 80% train_set and 20% test_set"
   ]
  },
  {
   "cell_type": "markdown",
   "id": "cc011911",
   "metadata": {},
   "source": [
    "### Using SepalLengthCm and SepallWidthCm to predict the species of iris"
   ]
  },
  {
   "cell_type": "code",
   "execution_count": 153,
   "id": "351080b9",
   "metadata": {},
   "outputs": [
    {
     "data": {
      "text/plain": [
       "KNeighborsClassifier(n_neighbors=13)"
      ]
     },
     "execution_count": 153,
     "metadata": {},
     "output_type": "execute_result"
    }
   ],
   "source": [
    "model.fit(X_train1[['SepalLengthCm','SepalWidthCm']], y_train1)"
   ]
  },
  {
   "cell_type": "code",
   "execution_count": 154,
   "id": "f76bbc5c",
   "metadata": {},
   "outputs": [
    {
     "data": {
      "text/plain": [
       "array(['Iris-virginica', 'Iris-setosa', 'Iris-virginica',\n",
       "       'Iris-virginica', 'Iris-virginica', 'Iris-versicolor',\n",
       "       'Iris-versicolor', 'Iris-setosa', 'Iris-setosa', 'Iris-virginica',\n",
       "       'Iris-setosa', 'Iris-setosa', 'Iris-setosa', 'Iris-virginica',\n",
       "       'Iris-versicolor', 'Iris-setosa', 'Iris-versicolor', 'Iris-setosa',\n",
       "       'Iris-setosa', 'Iris-versicolor', 'Iris-setosa', 'Iris-virginica',\n",
       "       'Iris-virginica', 'Iris-setosa', 'Iris-setosa', 'Iris-setosa',\n",
       "       'Iris-setosa', 'Iris-setosa', 'Iris-setosa', 'Iris-versicolor'],\n",
       "      dtype=object)"
      ]
     },
     "execution_count": 154,
     "metadata": {},
     "output_type": "execute_result"
    }
   ],
   "source": [
    "predictions = model.predict(X_test1[['SepalLengthCm','SepalWidthCm']])\n",
    "predictions"
   ]
  },
  {
   "cell_type": "code",
   "execution_count": 155,
   "id": "d0352459",
   "metadata": {},
   "outputs": [
    {
     "name": "stdout",
     "output_type": "stream",
     "text": [
      "Accuracy  :  0.8333333333333334\n",
      "F1 score  :  0.8360071301247771\n",
      "Recall    :  0.8333333333333334\n",
      "Precision :  0.8416666666666667\n",
      "Confusion matrix: \n",
      "[[16  0  0]\n",
      " [ 0  3  2]\n",
      " [ 0  3  6]]\n"
     ]
    }
   ],
   "source": [
    "from sklearn.metrics import precision_score, f1_score, recall_score, confusion_matrix, classification_report, accuracy_score\n",
    "\n",
    "print('Accuracy  : ', accuracy_score(y_test1, predictions))\n",
    "print('F1 score  : ', f1_score(y_test1, predictions, average=\"weighted\"))\n",
    "print('Recall    : ', recall_score(y_test1, predictions, average=\"weighted\"))\n",
    "print('Precision : ', precision_score(y_test1, predictions, average=\"weighted\"))\n",
    "confusion = confusion_matrix(y_test1, predictions)\n",
    "print('Confusion matrix: ')\n",
    "print(confusion)"
   ]
  },
  {
   "cell_type": "markdown",
   "id": "55d750c8",
   "metadata": {},
   "source": [
    "\n",
    "### Using PetalLengthCm and PetalWidthCm to predict the species of iris"
   ]
  },
  {
   "cell_type": "code",
   "execution_count": 156,
   "id": "a278b861",
   "metadata": {},
   "outputs": [
    {
     "data": {
      "text/plain": [
       "KNeighborsClassifier(n_neighbors=13)"
      ]
     },
     "execution_count": 156,
     "metadata": {},
     "output_type": "execute_result"
    }
   ],
   "source": [
    "model.fit(X_train1[['PetalLengthCm','PetalWidthCm']], y_train1)"
   ]
  },
  {
   "cell_type": "code",
   "execution_count": 157,
   "id": "2b630c71",
   "metadata": {},
   "outputs": [
    {
     "data": {
      "text/plain": [
       "array(['Iris-virginica', 'Iris-setosa', 'Iris-virginica',\n",
       "       'Iris-virginica', 'Iris-virginica', 'Iris-versicolor',\n",
       "       'Iris-virginica', 'Iris-setosa', 'Iris-setosa', 'Iris-versicolor',\n",
       "       'Iris-setosa', 'Iris-setosa', 'Iris-setosa', 'Iris-versicolor',\n",
       "       'Iris-virginica', 'Iris-setosa', 'Iris-versicolor', 'Iris-setosa',\n",
       "       'Iris-setosa', 'Iris-virginica', 'Iris-setosa', 'Iris-virginica',\n",
       "       'Iris-versicolor', 'Iris-setosa', 'Iris-setosa', 'Iris-setosa',\n",
       "       'Iris-setosa', 'Iris-setosa', 'Iris-setosa', 'Iris-virginica'],\n",
       "      dtype=object)"
      ]
     },
     "execution_count": 157,
     "metadata": {},
     "output_type": "execute_result"
    }
   ],
   "source": [
    "predictions = model.predict(X_test1[['PetalLengthCm','PetalWidthCm']])\n",
    "predictions"
   ]
  },
  {
   "cell_type": "code",
   "execution_count": 158,
   "id": "b18f24ce",
   "metadata": {},
   "outputs": [
    {
     "name": "stdout",
     "output_type": "stream",
     "text": [
      "Accuracy  :  0.9333333333333333\n",
      "F1 score  :  0.9333333333333333\n",
      "Recall    :  0.9333333333333333\n",
      "Precision :  0.9333333333333333\n",
      "Confusion matrix: \n",
      "[[16  0  0]\n",
      " [ 0  4  1]\n",
      " [ 0  1  8]]\n"
     ]
    }
   ],
   "source": [
    "from sklearn.metrics import precision_score, f1_score, recall_score, confusion_matrix, classification_report, accuracy_score\n",
    "\n",
    "print('Accuracy  : ', accuracy_score(y_test1, predictions))\n",
    "print('F1 score  : ', f1_score(y_test1, predictions, average=\"weighted\"))\n",
    "print('Recall    : ', recall_score(y_test1, predictions, average=\"weighted\"))\n",
    "print('Precision : ', precision_score(y_test1, predictions, average=\"weighted\"))\n",
    "confusion = confusion_matrix(y_test1, predictions)\n",
    "print('Confusion matrix: ')\n",
    "print(confusion)"
   ]
  },
  {
   "cell_type": "markdown",
   "id": "d7b1801e",
   "metadata": {},
   "source": [
    "### Using SepalLengthCm, SepalWidthCm, PetalLengthCm and PetalWidthCm to predict the species of iris"
   ]
  },
  {
   "cell_type": "code",
   "execution_count": 159,
   "id": "f53c3326",
   "metadata": {},
   "outputs": [
    {
     "data": {
      "text/plain": [
       "KNeighborsClassifier(n_neighbors=13)"
      ]
     },
     "execution_count": 159,
     "metadata": {},
     "output_type": "execute_result"
    }
   ],
   "source": [
    "model.fit(X_train1[['SepalLengthCm','SepalWidthCm','PetalLengthCm','PetalWidthCm']], y_train1)"
   ]
  },
  {
   "cell_type": "code",
   "execution_count": 160,
   "id": "47282ecc",
   "metadata": {},
   "outputs": [
    {
     "data": {
      "text/plain": [
       "array(['Iris-virginica', 'Iris-setosa', 'Iris-virginica',\n",
       "       'Iris-virginica', 'Iris-virginica', 'Iris-versicolor',\n",
       "       'Iris-virginica', 'Iris-setosa', 'Iris-setosa', 'Iris-virginica',\n",
       "       'Iris-setosa', 'Iris-setosa', 'Iris-setosa', 'Iris-versicolor',\n",
       "       'Iris-virginica', 'Iris-setosa', 'Iris-versicolor', 'Iris-setosa',\n",
       "       'Iris-setosa', 'Iris-virginica', 'Iris-setosa', 'Iris-virginica',\n",
       "       'Iris-versicolor', 'Iris-setosa', 'Iris-setosa', 'Iris-setosa',\n",
       "       'Iris-setosa', 'Iris-setosa', 'Iris-setosa', 'Iris-virginica'],\n",
       "      dtype=object)"
      ]
     },
     "execution_count": 160,
     "metadata": {},
     "output_type": "execute_result"
    }
   ],
   "source": [
    "predictions = model.predict(X_test1[['SepalLengthCm','SepalWidthCm','PetalLengthCm','PetalWidthCm']])\n",
    "predictions"
   ]
  },
  {
   "cell_type": "code",
   "execution_count": 161,
   "id": "2576197f",
   "metadata": {},
   "outputs": [
    {
     "name": "stdout",
     "output_type": "stream",
     "text": [
      "Accuracy  :  0.9666666666666667\n",
      "F1 score  :  0.9656920077972709\n",
      "Recall    :  0.9666666666666667\n",
      "Precision :  0.9700000000000001\n",
      "Confusion matrix: \n",
      "[[16  0  0]\n",
      " [ 0  4  1]\n",
      " [ 0  0  9]]\n"
     ]
    }
   ],
   "source": [
    "from sklearn.metrics import precision_score, f1_score, recall_score, confusion_matrix, classification_report, accuracy_score\n",
    "\n",
    "print('Accuracy  : ', accuracy_score(y_test1, predictions))\n",
    "print('F1 score  : ', f1_score(y_test1, predictions, average=\"weighted\"))\n",
    "print('Recall    : ', recall_score(y_test1, predictions, average=\"weighted\"))\n",
    "print('Precision : ', precision_score(y_test1, predictions, average=\"weighted\"))\n",
    "confusion = confusion_matrix(y_test1, predictions)\n",
    "print('Confusion matrix: ')\n",
    "print(confusion)\n"
   ]
  },
  {
   "cell_type": "markdown",
   "id": "99ecd36b",
   "metadata": {},
   "source": [
    "## Feature Scaling"
   ]
  },
  {
   "cell_type": "code",
   "execution_count": 162,
   "id": "d4618291",
   "metadata": {},
   "outputs": [],
   "source": [
    "#from sklearn.preprocessing import StandardScaler\n",
    "#sc_X = StandardScaler()\n",
    "#X_test = sc_X.fit_transform(X_test)\n",
    "#X_train = sc_X.fit_transform(X_train)\n",
    "#X_test1 = sc_X.fit_transform(X_test1)\n",
    "#X_train1 = sc_X.fit_transform(X_train1)"
   ]
  },
  {
   "cell_type": "markdown",
   "id": "badccaa6",
   "metadata": {},
   "source": [
    "## Experiment 2"
   ]
  },
  {
   "cell_type": "code",
   "execution_count": 163,
   "id": "2fd6fd67",
   "metadata": {},
   "outputs": [
    {
     "data": {
      "text/plain": [
       "10.246950765959598"
      ]
     },
     "execution_count": 163,
     "metadata": {},
     "output_type": "execute_result"
    }
   ],
   "source": [
    "import math\n",
    "math.sqrt(len(X_train))\n"
   ]
  },
  {
   "cell_type": "code",
   "execution_count": 164,
   "id": "367afbd4",
   "metadata": {},
   "outputs": [
    {
     "data": {
      "text/plain": [
       "10.954451150103322"
      ]
     },
     "execution_count": 164,
     "metadata": {},
     "output_type": "execute_result"
    }
   ],
   "source": [
    "import math\n",
    "math.sqrt(len(X_train1))\n"
   ]
  },
  {
   "cell_type": "code",
   "execution_count": 165,
   "id": "14ba538f",
   "metadata": {},
   "outputs": [],
   "source": [
    "model = KNeighborsClassifier(n_neighbors=10, p=2, metric='euclidean') "
   ]
  },
  {
   "cell_type": "markdown",
   "id": "71ff885d",
   "metadata": {},
   "source": [
    "### For 70% train_set and 30% test_set"
   ]
  },
  {
   "cell_type": "markdown",
   "id": "f2dedad1",
   "metadata": {},
   "source": [
    "### Using SepalLengthCm and SepalWidthCm to predict the species of iris"
   ]
  },
  {
   "cell_type": "code",
   "execution_count": 166,
   "id": "d3a1258a",
   "metadata": {},
   "outputs": [
    {
     "data": {
      "text/plain": [
       "KNeighborsClassifier(metric='euclidean', n_neighbors=10)"
      ]
     },
     "execution_count": 166,
     "metadata": {},
     "output_type": "execute_result"
    }
   ],
   "source": [
    "model.fit(X_train[['SepalLengthCm','SepalWidthCm']], y_train)"
   ]
  },
  {
   "cell_type": "code",
   "execution_count": 167,
   "id": "781f2c9d",
   "metadata": {},
   "outputs": [
    {
     "data": {
      "text/plain": [
       "array(['Iris-virginica', 'Iris-setosa', 'Iris-virginica',\n",
       "       'Iris-virginica', 'Iris-virginica', 'Iris-versicolor',\n",
       "       'Iris-versicolor', 'Iris-setosa', 'Iris-setosa', 'Iris-versicolor',\n",
       "       'Iris-setosa', 'Iris-setosa', 'Iris-setosa', 'Iris-versicolor',\n",
       "       'Iris-versicolor', 'Iris-setosa', 'Iris-versicolor', 'Iris-setosa',\n",
       "       'Iris-setosa', 'Iris-versicolor', 'Iris-setosa', 'Iris-virginica',\n",
       "       'Iris-versicolor', 'Iris-setosa', 'Iris-setosa', 'Iris-setosa',\n",
       "       'Iris-setosa', 'Iris-setosa', 'Iris-setosa', 'Iris-versicolor',\n",
       "       'Iris-versicolor', 'Iris-setosa', 'Iris-versicolor', 'Iris-setosa',\n",
       "       'Iris-versicolor', 'Iris-virginica', 'Iris-virginica',\n",
       "       'Iris-versicolor', 'Iris-virginica', 'Iris-setosa',\n",
       "       'Iris-virginica', 'Iris-setosa', 'Iris-virginica', 'Iris-setosa',\n",
       "       'Iris-virginica'], dtype=object)"
      ]
     },
     "execution_count": 167,
     "metadata": {},
     "output_type": "execute_result"
    }
   ],
   "source": [
    "predictions1 = model.predict(X_test[['SepalLengthCm','SepalWidthCm']])\n",
    "predictions1"
   ]
  },
  {
   "cell_type": "code",
   "execution_count": 168,
   "id": "87719e63",
   "metadata": {},
   "outputs": [
    {
     "name": "stdout",
     "output_type": "stream",
     "text": [
      "Accuracy  :  0.8444444444444444\n",
      "F1 score  :  0.845256038647343\n",
      "Recall    :  0.8444444444444444\n",
      "Precision :  0.8579642579642579\n",
      "Confusion matrix: \n",
      "[[21  0  0]\n",
      " [ 0  8  2]\n",
      " [ 0  5  9]]\n"
     ]
    }
   ],
   "source": [
    "from sklearn.metrics import precision_score, f1_score, recall_score, confusion_matrix, classification_report, accuracy_score\n",
    "\n",
    "print('Accuracy  : ', accuracy_score(y_test, predictions1))\n",
    "print('F1 score  : ', f1_score(y_test, predictions1, average=\"weighted\"))\n",
    "print('Recall    : ', recall_score(y_test, predictions1, average=\"weighted\"))\n",
    "print('Precision : ', precision_score(y_test, predictions1, average=\"weighted\"))\n",
    "confusion = confusion_matrix(y_test, predictions1)\n",
    "print('Confusion matrix: ')\n",
    "print(confusion)"
   ]
  },
  {
   "cell_type": "markdown",
   "id": "48b26f51",
   "metadata": {},
   "source": [
    "### Using PetalLengthCm and PetalWidthCm to predict the species of iris"
   ]
  },
  {
   "cell_type": "code",
   "execution_count": 169,
   "id": "761ef3fb",
   "metadata": {},
   "outputs": [
    {
     "data": {
      "text/plain": [
       "KNeighborsClassifier(metric='euclidean', n_neighbors=10)"
      ]
     },
     "execution_count": 169,
     "metadata": {},
     "output_type": "execute_result"
    }
   ],
   "source": [
    "model.fit(X_train[['PetalLengthCm','PetalWidthCm']], y_train)"
   ]
  },
  {
   "cell_type": "code",
   "execution_count": 170,
   "id": "c233eb96",
   "metadata": {},
   "outputs": [
    {
     "data": {
      "text/plain": [
       "array(['Iris-virginica', 'Iris-setosa', 'Iris-virginica',\n",
       "       'Iris-virginica', 'Iris-virginica', 'Iris-versicolor',\n",
       "       'Iris-virginica', 'Iris-setosa', 'Iris-setosa', 'Iris-versicolor',\n",
       "       'Iris-setosa', 'Iris-setosa', 'Iris-setosa', 'Iris-versicolor',\n",
       "       'Iris-virginica', 'Iris-setosa', 'Iris-versicolor', 'Iris-setosa',\n",
       "       'Iris-setosa', 'Iris-virginica', 'Iris-setosa', 'Iris-virginica',\n",
       "       'Iris-versicolor', 'Iris-setosa', 'Iris-setosa', 'Iris-setosa',\n",
       "       'Iris-setosa', 'Iris-setosa', 'Iris-setosa', 'Iris-virginica',\n",
       "       'Iris-versicolor', 'Iris-setosa', 'Iris-virginica', 'Iris-setosa',\n",
       "       'Iris-versicolor', 'Iris-virginica', 'Iris-virginica',\n",
       "       'Iris-versicolor', 'Iris-versicolor', 'Iris-setosa',\n",
       "       'Iris-virginica', 'Iris-setosa', 'Iris-versicolor', 'Iris-setosa',\n",
       "       'Iris-virginica'], dtype=object)"
      ]
     },
     "execution_count": 170,
     "metadata": {},
     "output_type": "execute_result"
    }
   ],
   "source": [
    "predictions1 = model.predict(X_test[['PetalLengthCm','PetalWidthCm']])\n",
    "predictions1"
   ]
  },
  {
   "cell_type": "code",
   "execution_count": 171,
   "id": "4f1a63fd",
   "metadata": {},
   "outputs": [
    {
     "name": "stdout",
     "output_type": "stream",
     "text": [
      "Accuracy  :  0.9555555555555556\n",
      "F1 score  :  0.9555555555555556\n",
      "Recall    :  0.9555555555555556\n",
      "Precision :  0.9555555555555556\n",
      "Confusion matrix: \n",
      "[[21  0  0]\n",
      " [ 0  9  1]\n",
      " [ 0  1 13]]\n"
     ]
    }
   ],
   "source": [
    "from sklearn.metrics import precision_score, f1_score, recall_score, confusion_matrix, classification_report, accuracy_score\n",
    "\n",
    "print('Accuracy  : ', accuracy_score(y_test, predictions1))\n",
    "print('F1 score  : ', f1_score(y_test, predictions1, average=\"weighted\"))\n",
    "print('Recall    : ', recall_score(y_test, predictions1, average=\"weighted\"))\n",
    "print('Precision : ', precision_score(y_test, predictions1, average=\"weighted\"))\n",
    "confusion = confusion_matrix(y_test, predictions1)\n",
    "print('Confusion matrix: ')\n",
    "print(confusion)"
   ]
  },
  {
   "cell_type": "markdown",
   "id": "8d570ed6",
   "metadata": {},
   "source": [
    "\n",
    "### Using SepalLengthCm, SepalWidthCm, PetalLengthCm and PetalWidthCm to predict the species of iris"
   ]
  },
  {
   "cell_type": "code",
   "execution_count": 172,
   "id": "dc14ebb5",
   "metadata": {},
   "outputs": [
    {
     "data": {
      "text/plain": [
       "KNeighborsClassifier(metric='euclidean', n_neighbors=10)"
      ]
     },
     "execution_count": 172,
     "metadata": {},
     "output_type": "execute_result"
    }
   ],
   "source": [
    "model.fit(X_train[['SepalLengthCm','SepalWidthCm','PetalLengthCm','PetalWidthCm']], y_train)"
   ]
  },
  {
   "cell_type": "code",
   "execution_count": 173,
   "id": "451c0efb",
   "metadata": {},
   "outputs": [
    {
     "data": {
      "text/plain": [
       "array(['Iris-virginica', 'Iris-setosa', 'Iris-virginica',\n",
       "       'Iris-virginica', 'Iris-virginica', 'Iris-versicolor',\n",
       "       'Iris-virginica', 'Iris-setosa', 'Iris-setosa', 'Iris-virginica',\n",
       "       'Iris-setosa', 'Iris-setosa', 'Iris-setosa', 'Iris-versicolor',\n",
       "       'Iris-virginica', 'Iris-setosa', 'Iris-versicolor', 'Iris-setosa',\n",
       "       'Iris-setosa', 'Iris-virginica', 'Iris-setosa', 'Iris-virginica',\n",
       "       'Iris-versicolor', 'Iris-setosa', 'Iris-setosa', 'Iris-setosa',\n",
       "       'Iris-setosa', 'Iris-setosa', 'Iris-setosa', 'Iris-virginica',\n",
       "       'Iris-versicolor', 'Iris-setosa', 'Iris-virginica', 'Iris-setosa',\n",
       "       'Iris-versicolor', 'Iris-virginica', 'Iris-virginica',\n",
       "       'Iris-versicolor', 'Iris-versicolor', 'Iris-setosa',\n",
       "       'Iris-virginica', 'Iris-setosa', 'Iris-versicolor', 'Iris-setosa',\n",
       "       'Iris-virginica'], dtype=object)"
      ]
     },
     "execution_count": 173,
     "metadata": {},
     "output_type": "execute_result"
    }
   ],
   "source": [
    "predictions1 = model.predict(X_test[['SepalLengthCm','SepalWidthCm','PetalLengthCm','PetalWidthCm']])\n",
    "predictions1"
   ]
  },
  {
   "cell_type": "code",
   "execution_count": 174,
   "id": "07004cd7",
   "metadata": {},
   "outputs": [
    {
     "name": "stdout",
     "output_type": "stream",
     "text": [
      "Accuracy  :  0.9777777777777777\n",
      "F1 score  :  0.9775761242185925\n",
      "Recall    :  0.9777777777777777\n",
      "Precision :  0.9792592592592592\n",
      "Confusion matrix: \n",
      "[[21  0  0]\n",
      " [ 0  9  1]\n",
      " [ 0  0 14]]\n"
     ]
    }
   ],
   "source": [
    "from sklearn.metrics import precision_score, f1_score, recall_score, confusion_matrix, classification_report, accuracy_score\n",
    "\n",
    "print('Accuracy  : ', accuracy_score(y_test, predictions1))\n",
    "print('F1 score  : ', f1_score(y_test, predictions1, average=\"weighted\"))\n",
    "print('Recall    : ', recall_score(y_test, predictions1, average=\"weighted\"))\n",
    "print('Precision : ', precision_score(y_test, predictions1, average=\"weighted\"))\n",
    "confusion = confusion_matrix(y_test, predictions1)\n",
    "print('Confusion matrix: ')\n",
    "print(confusion)"
   ]
  },
  {
   "cell_type": "markdown",
   "id": "10fb9e84",
   "metadata": {},
   "source": [
    "### For 80% train_set and 20% test_set"
   ]
  },
  {
   "cell_type": "markdown",
   "id": "cc011911",
   "metadata": {},
   "source": [
    "### Using SepalLengthCm and SepallWidthCm to predict the species of iris"
   ]
  },
  {
   "cell_type": "code",
   "execution_count": 175,
   "id": "351080b9",
   "metadata": {},
   "outputs": [
    {
     "data": {
      "text/plain": [
       "KNeighborsClassifier(metric='euclidean', n_neighbors=10)"
      ]
     },
     "execution_count": 175,
     "metadata": {},
     "output_type": "execute_result"
    }
   ],
   "source": [
    "model.fit(X_train1[['SepalLengthCm','SepalWidthCm']], y_train1)"
   ]
  },
  {
   "cell_type": "code",
   "execution_count": 176,
   "id": "f76bbc5c",
   "metadata": {},
   "outputs": [
    {
     "data": {
      "text/plain": [
       "array(['Iris-virginica', 'Iris-setosa', 'Iris-virginica',\n",
       "       'Iris-virginica', 'Iris-virginica', 'Iris-versicolor',\n",
       "       'Iris-versicolor', 'Iris-setosa', 'Iris-setosa', 'Iris-versicolor',\n",
       "       'Iris-setosa', 'Iris-setosa', 'Iris-setosa', 'Iris-versicolor',\n",
       "       'Iris-versicolor', 'Iris-setosa', 'Iris-versicolor', 'Iris-setosa',\n",
       "       'Iris-setosa', 'Iris-versicolor', 'Iris-setosa', 'Iris-virginica',\n",
       "       'Iris-virginica', 'Iris-setosa', 'Iris-setosa', 'Iris-setosa',\n",
       "       'Iris-setosa', 'Iris-setosa', 'Iris-setosa', 'Iris-versicolor'],\n",
       "      dtype=object)"
      ]
     },
     "execution_count": 176,
     "metadata": {},
     "output_type": "execute_result"
    }
   ],
   "source": [
    "predictions1 = model.predict(X_test1[['SepalLengthCm','SepalWidthCm']])\n",
    "predictions1"
   ]
  },
  {
   "cell_type": "code",
   "execution_count": 177,
   "id": "d0352459",
   "metadata": {},
   "outputs": [
    {
     "name": "stdout",
     "output_type": "stream",
     "text": [
      "Accuracy  :  0.8333333333333334\n",
      "F1 score  :  0.8358974358974359\n",
      "Recall    :  0.8333333333333334\n",
      "Precision :  0.8666666666666667\n",
      "Confusion matrix: \n",
      "[[16  0  0]\n",
      " [ 0  4  1]\n",
      " [ 0  4  5]]\n"
     ]
    }
   ],
   "source": [
    "from sklearn.metrics import precision_score, f1_score, recall_score, confusion_matrix, classification_report, accuracy_score\n",
    "\n",
    "print('Accuracy  : ', accuracy_score(y_test1, predictions1))\n",
    "print('F1 score  : ', f1_score(y_test1, predictions1, average=\"weighted\"))\n",
    "print('Recall    : ', recall_score(y_test1, predictions1, average=\"weighted\"))\n",
    "print('Precision : ', precision_score(y_test1, predictions1, average=\"weighted\"))\n",
    "confusion = confusion_matrix(y_test1, predictions1)\n",
    "print('Confusion matrix: ')\n",
    "print(confusion)"
   ]
  },
  {
   "cell_type": "markdown",
   "id": "55d750c8",
   "metadata": {},
   "source": [
    "\n",
    "### Using PetalLengthCm and PetalWidthCm to predict the species of iris"
   ]
  },
  {
   "cell_type": "code",
   "execution_count": 178,
   "id": "a278b861",
   "metadata": {},
   "outputs": [
    {
     "data": {
      "text/plain": [
       "KNeighborsClassifier(metric='euclidean', n_neighbors=10)"
      ]
     },
     "execution_count": 178,
     "metadata": {},
     "output_type": "execute_result"
    }
   ],
   "source": [
    "model.fit(X_train1[['PetalLengthCm','PetalWidthCm']], y_train1)"
   ]
  },
  {
   "cell_type": "code",
   "execution_count": 179,
   "id": "2b630c71",
   "metadata": {},
   "outputs": [
    {
     "data": {
      "text/plain": [
       "array(['Iris-virginica', 'Iris-setosa', 'Iris-virginica',\n",
       "       'Iris-virginica', 'Iris-virginica', 'Iris-versicolor',\n",
       "       'Iris-virginica', 'Iris-setosa', 'Iris-setosa', 'Iris-versicolor',\n",
       "       'Iris-setosa', 'Iris-setosa', 'Iris-setosa', 'Iris-versicolor',\n",
       "       'Iris-virginica', 'Iris-setosa', 'Iris-versicolor', 'Iris-setosa',\n",
       "       'Iris-setosa', 'Iris-virginica', 'Iris-setosa', 'Iris-virginica',\n",
       "       'Iris-versicolor', 'Iris-setosa', 'Iris-setosa', 'Iris-setosa',\n",
       "       'Iris-setosa', 'Iris-setosa', 'Iris-setosa', 'Iris-virginica'],\n",
       "      dtype=object)"
      ]
     },
     "execution_count": 179,
     "metadata": {},
     "output_type": "execute_result"
    }
   ],
   "source": [
    "predictions1 = model.predict(X_test1[['PetalLengthCm','PetalWidthCm']])\n",
    "predictions1"
   ]
  },
  {
   "cell_type": "code",
   "execution_count": 180,
   "id": "b18f24ce",
   "metadata": {},
   "outputs": [
    {
     "name": "stdout",
     "output_type": "stream",
     "text": [
      "Accuracy  :  0.9333333333333333\n",
      "F1 score  :  0.9333333333333333\n",
      "Recall    :  0.9333333333333333\n",
      "Precision :  0.9333333333333333\n",
      "Confusion matrix: \n",
      "[[16  0  0]\n",
      " [ 0  4  1]\n",
      " [ 0  1  8]]\n"
     ]
    }
   ],
   "source": [
    "from sklearn.metrics import precision_score, f1_score, recall_score, confusion_matrix, classification_report, accuracy_score\n",
    "\n",
    "print('Accuracy  : ', accuracy_score(y_test1, predictions1))\n",
    "print('F1 score  : ', f1_score(y_test1, predictions1, average=\"weighted\"))\n",
    "print('Recall    : ', recall_score(y_test1, predictions1, average=\"weighted\"))\n",
    "print('Precision : ', precision_score(y_test1, predictions1, average=\"weighted\"))\n",
    "confusion = confusion_matrix(y_test1, predictions1)\n",
    "print('Confusion matrix: ')\n",
    "print(confusion)"
   ]
  },
  {
   "cell_type": "markdown",
   "id": "d7b1801e",
   "metadata": {},
   "source": [
    "### Using SepalLengthCm, SepalWidthCm, PetalLengthCm and PetalWidthCm to predict the species of iris"
   ]
  },
  {
   "cell_type": "code",
   "execution_count": 181,
   "id": "f53c3326",
   "metadata": {},
   "outputs": [
    {
     "data": {
      "text/plain": [
       "KNeighborsClassifier(metric='euclidean', n_neighbors=10)"
      ]
     },
     "execution_count": 181,
     "metadata": {},
     "output_type": "execute_result"
    }
   ],
   "source": [
    "model.fit(X_train1[['SepalLengthCm','SepalWidthCm','PetalLengthCm','PetalWidthCm']], y_train1)"
   ]
  },
  {
   "cell_type": "code",
   "execution_count": 182,
   "id": "47282ecc",
   "metadata": {},
   "outputs": [
    {
     "data": {
      "text/plain": [
       "array(['Iris-virginica', 'Iris-setosa', 'Iris-virginica',\n",
       "       'Iris-virginica', 'Iris-virginica', 'Iris-versicolor',\n",
       "       'Iris-virginica', 'Iris-setosa', 'Iris-setosa', 'Iris-virginica',\n",
       "       'Iris-setosa', 'Iris-setosa', 'Iris-setosa', 'Iris-versicolor',\n",
       "       'Iris-virginica', 'Iris-setosa', 'Iris-versicolor', 'Iris-setosa',\n",
       "       'Iris-setosa', 'Iris-virginica', 'Iris-setosa', 'Iris-virginica',\n",
       "       'Iris-versicolor', 'Iris-setosa', 'Iris-setosa', 'Iris-setosa',\n",
       "       'Iris-setosa', 'Iris-setosa', 'Iris-setosa', 'Iris-virginica'],\n",
       "      dtype=object)"
      ]
     },
     "execution_count": 182,
     "metadata": {},
     "output_type": "execute_result"
    }
   ],
   "source": [
    "predictions1 = model.predict(X_test1[['SepalLengthCm','SepalWidthCm','PetalLengthCm','PetalWidthCm']])\n",
    "predictions1"
   ]
  },
  {
   "cell_type": "code",
   "execution_count": 183,
   "id": "2576197f",
   "metadata": {},
   "outputs": [
    {
     "name": "stdout",
     "output_type": "stream",
     "text": [
      "Accuracy  :  0.9666666666666667\n",
      "F1 score  :  0.9656920077972709\n",
      "Recall    :  0.9666666666666667\n",
      "Precision :  0.9700000000000001\n",
      "Confusion matrix: \n",
      "[[16  0  0]\n",
      " [ 0  4  1]\n",
      " [ 0  0  9]]\n"
     ]
    }
   ],
   "source": [
    "from sklearn.metrics import precision_score, f1_score, recall_score, confusion_matrix, classification_report, accuracy_score\n",
    "\n",
    "print('Accuracy  : ', accuracy_score(y_test1, predictions1))\n",
    "print('F1 score  : ', f1_score(y_test1, predictions1, average=\"weighted\"))\n",
    "print('Recall    : ', recall_score(y_test1, predictions1, average=\"weighted\"))\n",
    "print('Precision : ', precision_score(y_test1, predictions1, average=\"weighted\"))\n",
    "confusion = confusion_matrix(y_test1, predictions1)\n",
    "print('Confusion matrix: ')\n",
    "print(confusion)\n"
   ]
  },
  {
   "cell_type": "markdown",
   "id": "7df8081a",
   "metadata": {},
   "source": [
    "## Experiment 3\n",
    " "
   ]
  },
  {
   "cell_type": "code",
   "execution_count": 184,
   "id": "9b929009",
   "metadata": {},
   "outputs": [
    {
     "data": {
      "text/plain": [
       "6.708203932499369"
      ]
     },
     "execution_count": 184,
     "metadata": {},
     "output_type": "execute_result"
    }
   ],
   "source": [
    "import math\n",
    "math.sqrt(len(y_test))"
   ]
  },
  {
   "cell_type": "code",
   "execution_count": 185,
   "id": "7be3699f",
   "metadata": {},
   "outputs": [],
   "source": [
    "model = KNeighborsClassifier(n_neighbors=6, p=2, metric='euclidean') "
   ]
  },
  {
   "cell_type": "markdown",
   "id": "340c4673",
   "metadata": {},
   "source": [
    "### For 70% train_set and 30% test_set"
   ]
  },
  {
   "cell_type": "markdown",
   "id": "f2dedad1",
   "metadata": {},
   "source": [
    "### Using SepalLengthCm and SepalWidthCm to predict the species of iris"
   ]
  },
  {
   "cell_type": "code",
   "execution_count": 186,
   "id": "d3a1258a",
   "metadata": {},
   "outputs": [
    {
     "data": {
      "text/plain": [
       "KNeighborsClassifier(metric='euclidean', n_neighbors=6)"
      ]
     },
     "execution_count": 186,
     "metadata": {},
     "output_type": "execute_result"
    }
   ],
   "source": [
    "model.fit(X_train[['SepalLengthCm','SepalWidthCm']], y_train)"
   ]
  },
  {
   "cell_type": "code",
   "execution_count": 187,
   "id": "781f2c9d",
   "metadata": {},
   "outputs": [
    {
     "data": {
      "text/plain": [
       "array(['Iris-versicolor', 'Iris-setosa', 'Iris-virginica',\n",
       "       'Iris-virginica', 'Iris-virginica', 'Iris-versicolor',\n",
       "       'Iris-versicolor', 'Iris-setosa', 'Iris-setosa', 'Iris-versicolor',\n",
       "       'Iris-setosa', 'Iris-setosa', 'Iris-setosa', 'Iris-versicolor',\n",
       "       'Iris-versicolor', 'Iris-setosa', 'Iris-versicolor', 'Iris-setosa',\n",
       "       'Iris-setosa', 'Iris-virginica', 'Iris-setosa', 'Iris-virginica',\n",
       "       'Iris-versicolor', 'Iris-setosa', 'Iris-setosa', 'Iris-setosa',\n",
       "       'Iris-setosa', 'Iris-setosa', 'Iris-setosa', 'Iris-versicolor',\n",
       "       'Iris-versicolor', 'Iris-setosa', 'Iris-versicolor', 'Iris-setosa',\n",
       "       'Iris-versicolor', 'Iris-virginica', 'Iris-virginica',\n",
       "       'Iris-versicolor', 'Iris-virginica', 'Iris-setosa',\n",
       "       'Iris-virginica', 'Iris-setosa', 'Iris-virginica', 'Iris-setosa',\n",
       "       'Iris-versicolor'], dtype=object)"
      ]
     },
     "execution_count": 187,
     "metadata": {},
     "output_type": "execute_result"
    }
   ],
   "source": [
    "predictions2 = model.predict(X_test[['SepalLengthCm','SepalWidthCm']])\n",
    "predictions2"
   ]
  },
  {
   "cell_type": "code",
   "execution_count": 188,
   "id": "87719e63",
   "metadata": {},
   "outputs": [
    {
     "name": "stdout",
     "output_type": "stream",
     "text": [
      "Accuracy  :  0.8222222222222222\n",
      "F1 score  :  0.8222222222222222\n",
      "Recall    :  0.8222222222222222\n",
      "Precision :  0.8425396825396826\n",
      "Confusion matrix: \n",
      "[[21  0  0]\n",
      " [ 0  8  2]\n",
      " [ 0  6  8]]\n"
     ]
    }
   ],
   "source": [
    "from sklearn.metrics import precision_score, f1_score, recall_score, confusion_matrix, classification_report, accuracy_score\n",
    "\n",
    "print('Accuracy  : ', accuracy_score(y_test, predictions2))\n",
    "print('F1 score  : ', f1_score(y_test, predictions2, average=\"weighted\"))\n",
    "print('Recall    : ', recall_score(y_test, predictions2, average=\"weighted\"))\n",
    "print('Precision : ', precision_score(y_test, predictions2, average=\"weighted\"))\n",
    "confusion = confusion_matrix(y_test, predictions2)\n",
    "print('Confusion matrix: ')\n",
    "print(confusion)"
   ]
  },
  {
   "cell_type": "markdown",
   "id": "48b26f51",
   "metadata": {},
   "source": [
    "### Using PetalLengthCm and PetalWidthCm to predict the species of iris"
   ]
  },
  {
   "cell_type": "code",
   "execution_count": 189,
   "id": "761ef3fb",
   "metadata": {},
   "outputs": [
    {
     "data": {
      "text/plain": [
       "KNeighborsClassifier(metric='euclidean', n_neighbors=6)"
      ]
     },
     "execution_count": 189,
     "metadata": {},
     "output_type": "execute_result"
    }
   ],
   "source": [
    "model.fit(X_train[['PetalLengthCm','PetalWidthCm']], y_train)"
   ]
  },
  {
   "cell_type": "code",
   "execution_count": 190,
   "id": "c233eb96",
   "metadata": {},
   "outputs": [
    {
     "data": {
      "text/plain": [
       "array(['Iris-virginica', 'Iris-setosa', 'Iris-virginica',\n",
       "       'Iris-virginica', 'Iris-virginica', 'Iris-versicolor',\n",
       "       'Iris-versicolor', 'Iris-setosa', 'Iris-setosa', 'Iris-versicolor',\n",
       "       'Iris-setosa', 'Iris-setosa', 'Iris-setosa', 'Iris-versicolor',\n",
       "       'Iris-virginica', 'Iris-setosa', 'Iris-versicolor', 'Iris-setosa',\n",
       "       'Iris-setosa', 'Iris-virginica', 'Iris-setosa', 'Iris-virginica',\n",
       "       'Iris-versicolor', 'Iris-setosa', 'Iris-setosa', 'Iris-setosa',\n",
       "       'Iris-setosa', 'Iris-setosa', 'Iris-setosa', 'Iris-virginica',\n",
       "       'Iris-versicolor', 'Iris-setosa', 'Iris-virginica', 'Iris-setosa',\n",
       "       'Iris-versicolor', 'Iris-virginica', 'Iris-virginica',\n",
       "       'Iris-versicolor', 'Iris-versicolor', 'Iris-setosa',\n",
       "       'Iris-virginica', 'Iris-setosa', 'Iris-versicolor', 'Iris-setosa',\n",
       "       'Iris-virginica'], dtype=object)"
      ]
     },
     "execution_count": 190,
     "metadata": {},
     "output_type": "execute_result"
    }
   ],
   "source": [
    "predictions2 = model.predict(X_test[['PetalLengthCm','PetalWidthCm']])\n",
    "predictions2"
   ]
  },
  {
   "cell_type": "code",
   "execution_count": 191,
   "id": "4f1a63fd",
   "metadata": {},
   "outputs": [
    {
     "name": "stdout",
     "output_type": "stream",
     "text": [
      "Accuracy  :  0.9777777777777777\n",
      "F1 score  :  0.9778953556731335\n",
      "Recall    :  0.9777777777777777\n",
      "Precision :  0.9797979797979799\n",
      "Confusion matrix: \n",
      "[[21  0  0]\n",
      " [ 0 10  0]\n",
      " [ 0  1 13]]\n"
     ]
    }
   ],
   "source": [
    "from sklearn.metrics import precision_score, f1_score, recall_score, confusion_matrix, classification_report, accuracy_score\n",
    "\n",
    "print('Accuracy  : ', accuracy_score(y_test, predictions2))\n",
    "print('F1 score  : ', f1_score(y_test, predictions2, average=\"weighted\"))\n",
    "print('Recall    : ', recall_score(y_test, predictions2, average=\"weighted\"))\n",
    "print('Precision : ', precision_score(y_test, predictions2, average=\"weighted\"))\n",
    "confusion = confusion_matrix(y_test, predictions2)\n",
    "print('Confusion matrix: ')\n",
    "print(confusion)"
   ]
  },
  {
   "cell_type": "markdown",
   "id": "8d570ed6",
   "metadata": {},
   "source": [
    "\n",
    "### Using SepalLengthCm, SepalWidthCm, PetalLengthCm and PetalWidthCm to predict the species of iris"
   ]
  },
  {
   "cell_type": "code",
   "execution_count": 192,
   "id": "dc14ebb5",
   "metadata": {},
   "outputs": [
    {
     "data": {
      "text/plain": [
       "KNeighborsClassifier(metric='euclidean', n_neighbors=6)"
      ]
     },
     "execution_count": 192,
     "metadata": {},
     "output_type": "execute_result"
    }
   ],
   "source": [
    "model.fit(X_train[['SepalLengthCm','SepalWidthCm','PetalLengthCm','PetalWidthCm']], y_train)"
   ]
  },
  {
   "cell_type": "code",
   "execution_count": 193,
   "id": "451c0efb",
   "metadata": {},
   "outputs": [
    {
     "data": {
      "text/plain": [
       "array(['Iris-virginica', 'Iris-setosa', 'Iris-virginica',\n",
       "       'Iris-virginica', 'Iris-virginica', 'Iris-versicolor',\n",
       "       'Iris-virginica', 'Iris-setosa', 'Iris-setosa', 'Iris-virginica',\n",
       "       'Iris-setosa', 'Iris-setosa', 'Iris-setosa', 'Iris-versicolor',\n",
       "       'Iris-virginica', 'Iris-setosa', 'Iris-versicolor', 'Iris-setosa',\n",
       "       'Iris-setosa', 'Iris-virginica', 'Iris-setosa', 'Iris-virginica',\n",
       "       'Iris-versicolor', 'Iris-setosa', 'Iris-setosa', 'Iris-setosa',\n",
       "       'Iris-setosa', 'Iris-setosa', 'Iris-setosa', 'Iris-virginica',\n",
       "       'Iris-versicolor', 'Iris-setosa', 'Iris-virginica', 'Iris-setosa',\n",
       "       'Iris-versicolor', 'Iris-virginica', 'Iris-virginica',\n",
       "       'Iris-versicolor', 'Iris-versicolor', 'Iris-setosa',\n",
       "       'Iris-virginica', 'Iris-setosa', 'Iris-versicolor', 'Iris-setosa',\n",
       "       'Iris-virginica'], dtype=object)"
      ]
     },
     "execution_count": 193,
     "metadata": {},
     "output_type": "execute_result"
    }
   ],
   "source": [
    "predictions2 = model.predict(X_test[['SepalLengthCm','SepalWidthCm','PetalLengthCm','PetalWidthCm']])\n",
    "predictions2"
   ]
  },
  {
   "cell_type": "code",
   "execution_count": 194,
   "id": "07004cd7",
   "metadata": {},
   "outputs": [
    {
     "name": "stdout",
     "output_type": "stream",
     "text": [
      "Accuracy  :  0.9777777777777777\n",
      "F1 score  :  0.9775761242185925\n",
      "Recall    :  0.9777777777777777\n",
      "Precision :  0.9792592592592592\n",
      "Confusion matrix: \n",
      "[[21  0  0]\n",
      " [ 0  9  1]\n",
      " [ 0  0 14]]\n"
     ]
    }
   ],
   "source": [
    "from sklearn.metrics import precision_score, f1_score, recall_score, confusion_matrix, classification_report, accuracy_score\n",
    "\n",
    "print('Accuracy  : ', accuracy_score(y_test, predictions2))\n",
    "print('F1 score  : ', f1_score(y_test, predictions2, average=\"weighted\"))\n",
    "print('Recall    : ', recall_score(y_test, predictions2, average=\"weighted\"))\n",
    "print('Precision : ', precision_score(y_test, predictions2, average=\"weighted\"))\n",
    "confusion = confusion_matrix(y_test, predictions2)\n",
    "print('Confusion matrix: ')\n",
    "print(confusion)"
   ]
  },
  {
   "cell_type": "markdown",
   "id": "bf6a7b47",
   "metadata": {},
   "source": [
    "### For 80% train_set and 20% test_set"
   ]
  },
  {
   "cell_type": "markdown",
   "id": "cc011911",
   "metadata": {},
   "source": [
    "### Using SepalLengthCm and SepallWidthCm to predict the species of iris"
   ]
  },
  {
   "cell_type": "code",
   "execution_count": 195,
   "id": "351080b9",
   "metadata": {},
   "outputs": [
    {
     "data": {
      "text/plain": [
       "KNeighborsClassifier(metric='euclidean', n_neighbors=6)"
      ]
     },
     "execution_count": 195,
     "metadata": {},
     "output_type": "execute_result"
    }
   ],
   "source": [
    "model.fit(X_train1[['SepalLengthCm','SepalWidthCm']], y_train1)"
   ]
  },
  {
   "cell_type": "code",
   "execution_count": 196,
   "id": "f76bbc5c",
   "metadata": {},
   "outputs": [
    {
     "data": {
      "text/plain": [
       "array(['Iris-virginica', 'Iris-setosa', 'Iris-virginica',\n",
       "       'Iris-virginica', 'Iris-virginica', 'Iris-versicolor',\n",
       "       'Iris-versicolor', 'Iris-setosa', 'Iris-setosa', 'Iris-virginica',\n",
       "       'Iris-setosa', 'Iris-setosa', 'Iris-setosa', 'Iris-versicolor',\n",
       "       'Iris-versicolor', 'Iris-setosa', 'Iris-versicolor', 'Iris-setosa',\n",
       "       'Iris-setosa', 'Iris-virginica', 'Iris-setosa', 'Iris-virginica',\n",
       "       'Iris-versicolor', 'Iris-setosa', 'Iris-setosa', 'Iris-setosa',\n",
       "       'Iris-versicolor', 'Iris-setosa', 'Iris-setosa', 'Iris-versicolor'],\n",
       "      dtype=object)"
      ]
     },
     "execution_count": 196,
     "metadata": {},
     "output_type": "execute_result"
    }
   ],
   "source": [
    "predictions2 = model.predict(X_test1[['SepalLengthCm','SepalWidthCm']])\n",
    "predictions2"
   ]
  },
  {
   "cell_type": "code",
   "execution_count": 197,
   "id": "d0352459",
   "metadata": {},
   "outputs": [
    {
     "name": "stdout",
     "output_type": "stream",
     "text": [
      "Accuracy  :  0.9\n",
      "F1 score  :  0.9068341604631928\n",
      "Recall    :  0.9\n",
      "Precision :  0.9375\n",
      "Confusion matrix: \n",
      "[[15  1  0]\n",
      " [ 0  5  0]\n",
      " [ 0  2  7]]\n"
     ]
    }
   ],
   "source": [
    "from sklearn.metrics import precision_score, f1_score, recall_score, confusion_matrix, classification_report, accuracy_score\n",
    "\n",
    "print('Accuracy  : ', accuracy_score(y_test1, predictions2))\n",
    "print('F1 score  : ', f1_score(y_test1, predictions2, average=\"weighted\"))\n",
    "print('Recall    : ', recall_score(y_test1, predictions2, average=\"weighted\"))\n",
    "print('Precision : ', precision_score(y_test1, predictions2, average=\"weighted\"))\n",
    "confusion = confusion_matrix(y_test1, predictions2)\n",
    "print('Confusion matrix: ')\n",
    "print(confusion)"
   ]
  },
  {
   "cell_type": "markdown",
   "id": "55d750c8",
   "metadata": {},
   "source": [
    "\n",
    "### Using PetalLengthCm and PetalWidthCm to predict the species of iris"
   ]
  },
  {
   "cell_type": "code",
   "execution_count": 198,
   "id": "a278b861",
   "metadata": {},
   "outputs": [
    {
     "data": {
      "text/plain": [
       "KNeighborsClassifier(metric='euclidean', n_neighbors=6)"
      ]
     },
     "execution_count": 198,
     "metadata": {},
     "output_type": "execute_result"
    }
   ],
   "source": [
    "model.fit(X_train1[['PetalLengthCm','PetalWidthCm']], y_train1)"
   ]
  },
  {
   "cell_type": "code",
   "execution_count": 199,
   "id": "2b630c71",
   "metadata": {},
   "outputs": [
    {
     "data": {
      "text/plain": [
       "array(['Iris-virginica', 'Iris-setosa', 'Iris-virginica',\n",
       "       'Iris-virginica', 'Iris-virginica', 'Iris-versicolor',\n",
       "       'Iris-versicolor', 'Iris-setosa', 'Iris-setosa', 'Iris-versicolor',\n",
       "       'Iris-setosa', 'Iris-setosa', 'Iris-setosa', 'Iris-versicolor',\n",
       "       'Iris-virginica', 'Iris-setosa', 'Iris-versicolor', 'Iris-setosa',\n",
       "       'Iris-setosa', 'Iris-virginica', 'Iris-setosa', 'Iris-virginica',\n",
       "       'Iris-versicolor', 'Iris-setosa', 'Iris-setosa', 'Iris-setosa',\n",
       "       'Iris-setosa', 'Iris-setosa', 'Iris-setosa', 'Iris-virginica'],\n",
       "      dtype=object)"
      ]
     },
     "execution_count": 199,
     "metadata": {},
     "output_type": "execute_result"
    }
   ],
   "source": [
    "predictions2 = model.predict(X_test1[['PetalLengthCm','PetalWidthCm']])\n",
    "predictions2"
   ]
  },
  {
   "cell_type": "code",
   "execution_count": 200,
   "id": "b18f24ce",
   "metadata": {},
   "outputs": [
    {
     "name": "stdout",
     "output_type": "stream",
     "text": [
      "Accuracy  :  0.9666666666666667\n",
      "F1 score  :  0.9672014260249554\n",
      "Recall    :  0.9666666666666667\n",
      "Precision :  0.9722222222222222\n",
      "Confusion matrix: \n",
      "[[16  0  0]\n",
      " [ 0  5  0]\n",
      " [ 0  1  8]]\n"
     ]
    }
   ],
   "source": [
    "from sklearn.metrics import precision_score, f1_score, recall_score, confusion_matrix, classification_report, accuracy_score\n",
    "\n",
    "print('Accuracy  : ', accuracy_score(y_test1, predictions2))\n",
    "print('F1 score  : ', f1_score(y_test1, predictions2, average=\"weighted\"))\n",
    "print('Recall    : ', recall_score(y_test1, predictions2, average=\"weighted\"))\n",
    "print('Precision : ', precision_score(y_test1, predictions2, average=\"weighted\"))\n",
    "confusion = confusion_matrix(y_test1, predictions2)\n",
    "print('Confusion matrix: ')\n",
    "print(confusion)"
   ]
  },
  {
   "cell_type": "markdown",
   "id": "8d570ed6",
   "metadata": {},
   "source": [
    "\n",
    "### Using SepalLengthCm, SepalWidthCm, PetalLengthCm and PetalWidthCm to predict the species of iris"
   ]
  },
  {
   "cell_type": "code",
   "execution_count": 201,
   "id": "dc14ebb5",
   "metadata": {},
   "outputs": [
    {
     "data": {
      "text/plain": [
       "KNeighborsClassifier(metric='euclidean', n_neighbors=6)"
      ]
     },
     "execution_count": 201,
     "metadata": {},
     "output_type": "execute_result"
    }
   ],
   "source": [
    "model.fit(X_train1[['SepalLengthCm','SepalWidthCm','PetalLengthCm','PetalWidthCm']], y_train1)"
   ]
  },
  {
   "cell_type": "code",
   "execution_count": 202,
   "id": "451c0efb",
   "metadata": {},
   "outputs": [
    {
     "data": {
      "text/plain": [
       "array(['Iris-virginica', 'Iris-setosa', 'Iris-virginica',\n",
       "       'Iris-virginica', 'Iris-virginica', 'Iris-versicolor',\n",
       "       'Iris-virginica', 'Iris-setosa', 'Iris-setosa', 'Iris-virginica',\n",
       "       'Iris-setosa', 'Iris-setosa', 'Iris-setosa', 'Iris-versicolor',\n",
       "       'Iris-virginica', 'Iris-setosa', 'Iris-versicolor', 'Iris-setosa',\n",
       "       'Iris-setosa', 'Iris-virginica', 'Iris-setosa', 'Iris-virginica',\n",
       "       'Iris-versicolor', 'Iris-setosa', 'Iris-setosa', 'Iris-setosa',\n",
       "       'Iris-setosa', 'Iris-setosa', 'Iris-setosa', 'Iris-virginica'],\n",
       "      dtype=object)"
      ]
     },
     "execution_count": 202,
     "metadata": {},
     "output_type": "execute_result"
    }
   ],
   "source": [
    "predictions2 = model.predict(X_test1[['SepalLengthCm','SepalWidthCm','PetalLengthCm','PetalWidthCm']])\n",
    "predictions2"
   ]
  },
  {
   "cell_type": "code",
   "execution_count": 203,
   "id": "07004cd7",
   "metadata": {},
   "outputs": [
    {
     "name": "stdout",
     "output_type": "stream",
     "text": [
      "Accuracy  :  0.9666666666666667\n",
      "F1 score  :  0.9656920077972709\n",
      "Recall    :  0.9666666666666667\n",
      "Precision :  0.9700000000000001\n",
      "Confusion matrix: \n",
      "[[16  0  0]\n",
      " [ 0  4  1]\n",
      " [ 0  0  9]]\n"
     ]
    }
   ],
   "source": [
    "from sklearn.metrics import precision_score, f1_score, recall_score, confusion_matrix, classification_report, accuracy_score\n",
    "\n",
    "print('Accuracy  : ', accuracy_score(y_test1, predictions2))\n",
    "print('F1 score  : ', f1_score(y_test1, predictions2, average=\"weighted\"))\n",
    "print('Recall    : ', recall_score(y_test1, predictions2, average=\"weighted\"))\n",
    "print('Precision : ', precision_score(y_test1, predictions2, average=\"weighted\"))\n",
    "confusion = confusion_matrix(y_test1, predictions2)\n",
    "print('Confusion matrix: ')\n",
    "print(confusion)"
   ]
  }
 ],
 "metadata": {
  "kernelspec": {
   "display_name": "Python 3.8.3 ('base')",
   "language": "python",
   "name": "python3"
  },
  "language_info": {
   "codemirror_mode": {
    "name": "ipython",
    "version": 3
   },
   "file_extension": ".py",
   "mimetype": "text/x-python",
   "name": "python",
   "nbconvert_exporter": "python",
   "pygments_lexer": "ipython3",
   "version": "3.8.3"
  },
  "vscode": {
   "interpreter": {
    "hash": "2f21081fdb2c842dafa991be781f43f9339bfceb671bf7228dd298b8f076c793"
   }
  }
 },
 "nbformat": 4,
 "nbformat_minor": 5
}
